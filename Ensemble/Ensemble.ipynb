{
 "cells": [
  {
   "cell_type": "code",
   "execution_count": 11,
   "id": "fd0757fc",
   "metadata": {},
   "outputs": [],
   "source": [
    "import pandas as pd\n",
    "import numpy as np\n",
    "from sklearn.model_selection import train_test_split\n",
    "from sklearn.preprocessing import OneHotEncoder, StandardScaler\n",
    "from sklearn.compose import ColumnTransformer\n",
    "from sklearn.pipeline import Pipeline\n",
    "from sklearn.linear_model import LinearRegression\n",
    "from sklearn.tree import DecisionTreeRegressor\n",
    "from sklearn.ensemble import RandomForestRegressor, GradientBoostingRegressor\n",
    "from sklearn.svm import SVR\n",
    "from sklearn.metrics import mean_squared_error, r2_score\n",
    "import joblib"
   ]
  },
  {
   "cell_type": "code",
   "execution_count": 12,
   "id": "af23bed9",
   "metadata": {},
   "outputs": [],
   "source": [
    "# Load dataset\n",
    "df = pd.read_csv('../Servo_Mechanism.csv', on_bad_lines='skip')"
   ]
  },
  {
   "cell_type": "code",
   "execution_count": 13,
   "id": "c13598bc",
   "metadata": {},
   "outputs": [],
   "source": [
    "# Define features and target\n",
    "y = df['Class']\n",
    "X = df.drop('Class', axis=1)"
   ]
  },
  {
   "cell_type": "code",
   "execution_count": 14,
   "id": "2b0b65a4",
   "metadata": {},
   "outputs": [],
   "source": [
    "# Train-test split\n",
    "X_train, X_test, y_train, y_test = train_test_split(X, y, test_size=0.2, random_state=42)"
   ]
  },
  {
   "cell_type": "code",
   "execution_count": 15,
   "id": "02da077b",
   "metadata": {},
   "outputs": [],
   "source": [
    "# Preprocessing: One-hot encode categorical and scale numeric\n",
    "categorical_features = ['Motor', 'Screw']\n",
    "numeric_features = ['Pgain', 'Vgain']\n",
    "\n",
    "preprocessor = ColumnTransformer([\n",
    "    ('cat', OneHotEncoder(), categorical_features),\n",
    "    ('num', StandardScaler(), numeric_features)\n",
    "])"
   ]
  },
  {
   "cell_type": "code",
   "execution_count": 16,
   "id": "493061cb",
   "metadata": {},
   "outputs": [],
   "source": [
    "# Use this if you are traning the model here only\n",
    "\n",
    "# # Define models in pipelines\n",
    "# def make_pipeline(model):\n",
    "#     return Pipeline([('pre', preprocessor), ('model', model)])\n",
    "\n",
    "# models = {\n",
    "#     'linear_regression': make_pipeline(LinearRegression()),\n",
    "#     'decision_tree': make_pipeline(DecisionTreeRegressor(random_state=42)),\n",
    "#     'random_forest': make_pipeline(RandomForestRegressor(n_estimators=100, random_state=42)),\n",
    "#     'gradient_boosting': make_pipeline(GradientBoostingRegressor(n_estimators=100, random_state=42)),\n",
    "#     'svr': make_pipeline(SVR())\n",
    "# }\n",
    "\n",
    "\n",
    "# # Train each model and save\n",
    "# for name, pipeline in models.items():\n",
    "#     print(f\"Training {name}...\")\n",
    "#     pipeline.fit(X_train, y_train)\n",
    "#     y_pred = pipeline.predict(X_test)\n",
    "#     mse = mean_squared_error(y_test, y_pred)\n",
    "#     r2 = r2_score(y_test, y_pred)\n",
    "#     print(f\"{name} -- MSE: {mse:.3f}, R2: {r2:.3f}\\n\")\n",
    "#     joblib.dump(pipeline, f'{name}_model.pkl')"
   ]
  },
  {
   "cell_type": "code",
   "execution_count": 17,
   "id": "5f6cf3d5",
   "metadata": {},
   "outputs": [],
   "source": [
    "# # Ensemble: load saved models and average predictions\n",
    "# ensemble_models = []\n",
    "# for name in models.keys():\n",
    "#     ensemble_models.append(joblib.load(f'{name}_model.pkl'))"
   ]
  },
  {
   "cell_type": "code",
   "execution_count": 18,
   "id": "c01a0b13",
   "metadata": {},
   "outputs": [
    {
     "name": "stdout",
     "output_type": "stream",
     "text": [
      "Loading model: linear_regression from ../Linear Regression/linear_regression_model.pkl\n",
      "Loading model: decision_tree from ../Decision Tree/decision_tree_model.pkl\n",
      "Loading model: random_forest from ../Random Forest/random_forest_model.pkl\n",
      "Loading model: gradient_boosting from ../Gradient Boosting/gradient_boosting_model.pkl\n",
      "Loading model: svr from ../Svr/svr_model.pkl\n"
     ]
    }
   ],
   "source": [
    "# Use this if you have already trained models\n",
    "# Define model paths\n",
    "model_paths = {\n",
    "    'linear_regression': '../Linear Regression/linear_regression_model.pkl',\n",
    "    'decision_tree': '../Decision Tree/decision_tree_model.pkl',\n",
    "    'random_forest': '../Random Forest/random_forest_model.pkl',\n",
    "    'gradient_boosting': '../Gradient Boosting/gradient_boosting_model.pkl',\n",
    "    'svr': '../Svr/svr_model.pkl'\n",
    "}\n",
    "\n",
    "# Load models\n",
    "ensemble_models = []\n",
    "for name, path in model_paths.items():\n",
    "    print(f\"Loading model: {name} from {path}\")\n",
    "    model = joblib.load(path)\n",
    "    ensemble_models.append(model)"
   ]
  },
  {
   "cell_type": "code",
   "execution_count": 19,
   "id": "8eddab87",
   "metadata": {},
   "outputs": [],
   "source": [
    "# Predict with each and average\n",
    "defs_ = {}\n",
    "preds = []\n",
    "for idx, model in enumerate(ensemble_models):\n",
    "    preds.append(model.predict(X_test))"
   ]
  },
  {
   "cell_type": "code",
   "execution_count": 20,
   "id": "0d9dd963",
   "metadata": {},
   "outputs": [],
   "source": [
    "# Stack predictions: shape (n_models, n_samples)\n",
    "preds_array = np.vstack(preds)\n",
    "# Average across models\n",
    "y_ensemble_pred = np.mean(preds_array, axis=0)"
   ]
  },
  {
   "cell_type": "code",
   "execution_count": 21,
   "id": "0b8dfb19",
   "metadata": {},
   "outputs": [
    {
     "name": "stdout",
     "output_type": "stream",
     "text": [
      "Ensemble -- MSE: 53.303, R2: 0.773\n"
     ]
    }
   ],
   "source": [
    "# Evaluate ensemble\n",
    "mse_ens = mean_squared_error(y_test, y_ensemble_pred)\n",
    "r2_ens = r2_score(y_test, y_ensemble_pred)\n",
    "print(f\"Ensemble -- MSE: {mse_ens:.3f}, R2: {r2_ens:.3f}\")"
   ]
  },
  {
   "cell_type": "code",
   "execution_count": 22,
   "id": "bf1c98fa",
   "metadata": {},
   "outputs": [],
   "source": [
    "# Save ensemble predictions to file\n",
    "np.savetxt('ensemble_predictions.csv', y_ensemble_pred, delimiter=',', header='Class_pred', comments='')"
   ]
  }
 ],
 "metadata": {
  "kernelspec": {
   "display_name": "Python 3 (ipykernel)",
   "language": "python",
   "name": "python3"
  },
  "language_info": {
   "codemirror_mode": {
    "name": "ipython",
    "version": 3
   },
   "file_extension": ".py",
   "mimetype": "text/x-python",
   "name": "python",
   "nbconvert_exporter": "python",
   "pygments_lexer": "ipython3",
   "version": "3.11.5"
  }
 },
 "nbformat": 4,
 "nbformat_minor": 5
}
