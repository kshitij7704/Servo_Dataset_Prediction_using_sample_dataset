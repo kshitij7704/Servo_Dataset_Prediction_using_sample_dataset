{
 "cells": [
  {
   "cell_type": "code",
   "execution_count": 1,
   "id": "557d68da",
   "metadata": {},
   "outputs": [],
   "source": [
    "import pandas as pd\n",
    "import numpy as np\n",
    "from sklearn.model_selection import train_test_split, GridSearchCV\n",
    "from sklearn.preprocessing import OneHotEncoder, StandardScaler, PolynomialFeatures\n",
    "from sklearn.compose import ColumnTransformer\n",
    "from sklearn.pipeline import Pipeline\n",
    "from sklearn.linear_model import Ridge\n",
    "from sklearn.metrics import mean_squared_error, r2_score\n",
    "import joblib"
   ]
  },
  {
   "cell_type": "code",
   "execution_count": 2,
   "id": "955bc937",
   "metadata": {},
   "outputs": [],
   "source": [
    "# 1. Load data\n",
    "df = pd.read_csv('../Servo_Mechanism.csv', on_bad_lines='skip')\n",
    "X = df.drop('Class', axis=1)\n",
    "y = df['Class']"
   ]
  },
  {
   "cell_type": "code",
   "execution_count": 3,
   "id": "4e78d32b",
   "metadata": {},
   "outputs": [],
   "source": [
    "# 2. Split\n",
    "X_train, X_test, y_train, y_test = train_test_split(X, y, test_size=0.2, random_state=42)"
   ]
  },
  {
   "cell_type": "code",
   "execution_count": 4,
   "id": "e2b67f25",
   "metadata": {},
   "outputs": [],
   "source": [
    "# 3. Preprocessing + polynomial expansion\n",
    "numeric_features = ['Pgain', 'Vgain']\n",
    "categorical_features = ['Motor', 'Screw']\n",
    "\n",
    "preprocessor = ColumnTransformer([\n",
    "    ('cat', OneHotEncoder(handle_unknown='ignore'), categorical_features),\n",
    "    ('num', Pipeline([\n",
    "        ('scale', StandardScaler()),\n",
    "        ('poly', PolynomialFeatures(degree=2, include_bias=False))\n",
    "    ]), numeric_features)\n",
    "])"
   ]
  },
  {
   "cell_type": "code",
   "execution_count": 5,
   "id": "fcaaae58",
   "metadata": {},
   "outputs": [],
   "source": [
    "# 4. Pipeline + GridSearch over alpha\n",
    "pipeline = Pipeline([\n",
    "    ('pre', preprocessor),\n",
    "    ('model', Ridge())\n",
    "])\n",
    "\n",
    "param_grid = {\n",
    "    'model__alpha': [0.1, 1.0, 10.0, 50.0, 100.0]\n",
    "}\n",
    "\n",
    "grid = GridSearchCV(\n",
    "    pipeline,\n",
    "    param_grid,\n",
    "    cv=5,\n",
    "    scoring='r2',\n",
    "    n_jobs=-1,\n",
    "    verbose=1\n",
    ")"
   ]
  },
  {
   "cell_type": "code",
   "execution_count": 6,
   "id": "7f53b6e4",
   "metadata": {},
   "outputs": [
    {
     "name": "stdout",
     "output_type": "stream",
     "text": [
      "Fitting 5 folds for each of 5 candidates, totalling 25 fits\n",
      "Best alpha: 1.0\n"
     ]
    }
   ],
   "source": [
    "# 5. Train & evaluate\n",
    "grid.fit(X_train, y_train)\n",
    "best_alpha = grid.best_params_['model__alpha']\n",
    "print(f\"Best alpha: {best_alpha}\")"
   ]
  },
  {
   "cell_type": "code",
   "execution_count": 7,
   "id": "223d398f",
   "metadata": {},
   "outputs": [
    {
     "name": "stdout",
     "output_type": "stream",
     "text": [
      "Improved Ridge Regression:\n",
      "  MSE: 38.925\n",
      "  R2 : 0.834\n"
     ]
    }
   ],
   "source": [
    "# Evaluate\n",
    "y_pred = grid.predict(X_test)\n",
    "print(\"Improved Ridge Regression:\")\n",
    "print(f\"  MSE: {mean_squared_error(y_test, y_pred):.3f}\")\n",
    "print(f\"  R2 : {r2_score(y_test, y_pred):.3f}\")"
   ]
  },
  {
   "cell_type": "code",
   "execution_count": 8,
   "id": "1445ed46",
   "metadata": {},
   "outputs": [
    {
     "data": {
      "text/plain": [
       "['linear_regression_model.pkl']"
      ]
     },
     "execution_count": 8,
     "metadata": {},
     "output_type": "execute_result"
    }
   ],
   "source": [
    "# Save\n",
    "joblib.dump(pipeline, 'linear_regression_model.pkl')"
   ]
  }
 ],
 "metadata": {
  "kernelspec": {
   "display_name": "Python 3 (ipykernel)",
   "language": "python",
   "name": "python3"
  },
  "language_info": {
   "codemirror_mode": {
    "name": "ipython",
    "version": 3
   },
   "file_extension": ".py",
   "mimetype": "text/x-python",
   "name": "python",
   "nbconvert_exporter": "python",
   "pygments_lexer": "ipython3",
   "version": "3.11.5"
  }
 },
 "nbformat": 4,
 "nbformat_minor": 5
}
